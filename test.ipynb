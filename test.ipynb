{
 "cells": [
  {
   "cell_type": "code",
   "execution_count": 1,
   "metadata": {},
   "outputs": [],
   "source": [
    "import pandas as pd \n",
    "import numpy as np \n",
    "from get_mail import GetMail"
   ]
  },
  {
   "cell_type": "code",
   "execution_count": 2,
   "metadata": {},
   "outputs": [
    {
     "data": {
      "text/plain": [
       "(17, 9)"
      ]
     },
     "execution_count": 2,
     "metadata": {},
     "output_type": "execute_result"
    }
   ],
   "source": [
    "df = pd.read_csv('./data/data1.csv')\n",
    "df = df[df['website'].notna()]\n",
    "df['website'] = \"https://www.\" + df['website']\n",
    "df.shape"
   ]
  },
  {
   "cell_type": "code",
   "execution_count": 3,
   "metadata": {},
   "outputs": [
    {
     "name": "stderr",
     "output_type": "stream",
     "text": [
      "Scraper {position}:   0%|          | 0/17 [00:00<?, ?it/s]"
     ]
    },
    {
     "name": "stdout",
     "output_type": "stream",
     "text": [
      "No proxy applied.\n",
      "No proxy applied.\n",
      "No proxy applied.\n",
      "No proxy applied.\n",
      "No proxy applied.\n",
      "No proxy applied.\n",
      "No proxy applied.\n",
      "No proxy applied.\n",
      "No proxy applied.\n",
      "No proxy applied.\n"
     ]
    },
    {
     "name": "stderr",
     "output_type": "stream",
     "text": [
      "c:\\Users\\gingg\\Documents\\GitHub\\Email-Web-Scraper\\get_mail.py:30: SettingWithCopyWarning: \n",
      "A value is trying to be set on a copy of a slice from a DataFrame.\n",
      "Try using .loc[row_indexer,col_indexer] = value instead\n",
      "\n",
      "See the caveats in the documentation: https://pandas.pydata.org/pandas-docs/stable/user_guide/indexing.html#returning-a-view-versus-a-copy\n",
      "  batch['emails'] = list(executor.map(self._extract_emails, batch['website']))\n",
      "c:\\Users\\gingg\\Documents\\GitHub\\Email-Web-Scraper\\get_mail.py:31: SettingWithCopyWarning: \n",
      "A value is trying to be set on a copy of a slice from a DataFrame.\n",
      "Try using .loc[row_indexer,col_indexer] = value instead\n",
      "\n",
      "See the caveats in the documentation: https://pandas.pydata.org/pandas-docs/stable/user_guide/indexing.html#returning-a-view-versus-a-copy\n",
      "  batch['filtered_emails'] = batch['emails'].apply(self._filter_unusual_emails)\n",
      "Scraper {position}:  59%|█████▉    | 10/17 [00:12<00:09,  1.30s/it]"
     ]
    },
    {
     "name": "stdout",
     "output_type": "stream",
     "text": [
      "Batch processed and saved to 'output1.csv'.\n",
      "No proxy applied.\n",
      "No proxy applied.\n",
      "No proxy applied.\n",
      "No proxy applied.\n",
      "No proxy applied.\n",
      "No proxy applied.\n",
      "No proxy applied.\n"
     ]
    },
    {
     "name": "stderr",
     "output_type": "stream",
     "text": [
      "c:\\Users\\gingg\\Documents\\GitHub\\Email-Web-Scraper\\get_mail.py:30: SettingWithCopyWarning: \n",
      "A value is trying to be set on a copy of a slice from a DataFrame.\n",
      "Try using .loc[row_indexer,col_indexer] = value instead\n",
      "\n",
      "See the caveats in the documentation: https://pandas.pydata.org/pandas-docs/stable/user_guide/indexing.html#returning-a-view-versus-a-copy\n",
      "  batch['emails'] = list(executor.map(self._extract_emails, batch['website']))\n",
      "c:\\Users\\gingg\\Documents\\GitHub\\Email-Web-Scraper\\get_mail.py:31: SettingWithCopyWarning: \n",
      "A value is trying to be set on a copy of a slice from a DataFrame.\n",
      "Try using .loc[row_indexer,col_indexer] = value instead\n",
      "\n",
      "See the caveats in the documentation: https://pandas.pydata.org/pandas-docs/stable/user_guide/indexing.html#returning-a-view-versus-a-copy\n",
      "  batch['filtered_emails'] = batch['emails'].apply(self._filter_unusual_emails)\n",
      "Scraper {position}: 100%|██████████| 17/17 [00:23<00:00,  1.41s/it]"
     ]
    },
    {
     "name": "stdout",
     "output_type": "stream",
     "text": [
      "Batch processed and saved to 'output1.csv'.\n"
     ]
    },
    {
     "name": "stderr",
     "output_type": "stream",
     "text": [
      "\n"
     ]
    }
   ],
   "source": [
    "proxy_list = [\"http://91.217.179.174:8080\", \"http://91.150.189.122:30389\", \"http://157.66.85.32:8080\"] \n",
    "getmail = GetMail(df, 'output1.csv')"
   ]
  },
  {
   "cell_type": "code",
   "execution_count": null,
   "metadata": {},
   "outputs": [],
   "source": []
  }
 ],
 "metadata": {
  "kernelspec": {
   "display_name": ".conda",
   "language": "python",
   "name": "python3"
  },
  "language_info": {
   "codemirror_mode": {
    "name": "ipython",
    "version": 3
   },
   "file_extension": ".py",
   "mimetype": "text/x-python",
   "name": "python",
   "nbconvert_exporter": "python",
   "pygments_lexer": "ipython3",
   "version": "3.11.10"
  }
 },
 "nbformat": 4,
 "nbformat_minor": 2
}
