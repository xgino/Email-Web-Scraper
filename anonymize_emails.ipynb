{
 "cells": [
  {
   "cell_type": "code",
   "execution_count": 1,
   "metadata": {},
   "outputs": [],
   "source": [
    "import pandas as pd"
   ]
  },
  {
   "cell_type": "code",
   "execution_count": 2,
   "metadata": {},
   "outputs": [
    {
     "data": {
      "text/plain": [
       "(122, 10)"
      ]
     },
     "execution_count": 2,
     "metadata": {},
     "output_type": "execute_result"
    }
   ],
   "source": [
    "df = pd.read_csv(\"./data/email_list.csv\")\n",
    "df.shape"
   ]
  },
  {
   "cell_type": "code",
   "execution_count": 8,
   "metadata": {},
   "outputs": [
    {
     "data": {
      "text/plain": [
       "(36, 10)"
      ]
     },
     "execution_count": 8,
     "metadata": {},
     "output_type": "execute_result"
    }
   ],
   "source": [
    "df2 = df[df['emails'].isna()]\n",
    "df2.shape"
   ]
  },
  {
   "cell_type": "code",
   "execution_count": 9,
   "metadata": {},
   "outputs": [
    {
     "data": {
      "text/plain": [
       "(86, 10)"
      ]
     },
     "execution_count": 9,
     "metadata": {},
     "output_type": "execute_result"
    }
   ],
   "source": [
    "df = df[df['emails'].notna()]\n",
    "df['emails'] = df['emails'].str.lower()\n",
    "df.shape"
   ]
  },
  {
   "cell_type": "code",
   "execution_count": 10,
   "metadata": {},
   "outputs": [
    {
     "data": {
      "text/html": [
       "<div>\n",
       "<style scoped>\n",
       "    .dataframe tbody tr th:only-of-type {\n",
       "        vertical-align: middle;\n",
       "    }\n",
       "\n",
       "    .dataframe tbody tr th {\n",
       "        vertical-align: top;\n",
       "    }\n",
       "\n",
       "    .dataframe thead th {\n",
       "        text-align: right;\n",
       "    }\n",
       "</style>\n",
       "<table border=\"1\" class=\"dataframe\">\n",
       "  <thead>\n",
       "    <tr style=\"text-align: right;\">\n",
       "      <th></th>\n",
       "      <th>name</th>\n",
       "      <th>adres</th>\n",
       "      <th>website</th>\n",
       "      <th>telefoon</th>\n",
       "      <th>reviews_count</th>\n",
       "      <th>reviews_average</th>\n",
       "      <th>latitude</th>\n",
       "      <th>longitude</th>\n",
       "      <th>search_keyword</th>\n",
       "      <th>emails</th>\n",
       "    </tr>\n",
       "  </thead>\n",
       "  <tbody>\n",
       "    <tr>\n",
       "      <th>0</th>\n",
       "      <td>Studievereniging Tri Movere</td>\n",
       "      <td>NaN</td>\n",
       "      <td>https://www.trimovere.nl</td>\n",
       "      <td>NaN</td>\n",
       "      <td>2</td>\n",
       "      <td>5.0</td>\n",
       "      <td>51.818526</td>\n",
       "      <td>5.723399</td>\n",
       "      <td>Nederland, Nijmegen-Midden, Sporting Events</td>\n",
       "      <td>['info@trimovere.nl']</td>\n",
       "    </tr>\n",
       "    <tr>\n",
       "      <th>1</th>\n",
       "      <td>Sport Event</td>\n",
       "      <td>NaN</td>\n",
       "      <td>https://www.sportevent.nl</td>\n",
       "      <td>NaN</td>\n",
       "      <td>1</td>\n",
       "      <td>5.0</td>\n",
       "      <td>51.899225</td>\n",
       "      <td>5.628144</td>\n",
       "      <td>Nederland, Nijmegen-Midden, Sporting Events</td>\n",
       "      <td>['info@omnivents.nl']</td>\n",
       "    </tr>\n",
       "  </tbody>\n",
       "</table>\n",
       "</div>"
      ],
      "text/plain": [
       "                          name  adres                    website  telefoon  \\\n",
       "0  Studievereniging Tri Movere    NaN   https://www.trimovere.nl       NaN   \n",
       "1                  Sport Event    NaN  https://www.sportevent.nl       NaN   \n",
       "\n",
       "   reviews_count  reviews_average   latitude  longitude  \\\n",
       "0              2              5.0  51.818526   5.723399   \n",
       "1              1              5.0  51.899225   5.628144   \n",
       "\n",
       "                                search_keyword                 emails  \n",
       "0  Nederland, Nijmegen-Midden, Sporting Events  ['info@trimovere.nl']  \n",
       "1  Nederland, Nijmegen-Midden, Sporting Events  ['info@omnivents.nl']  "
      ]
     },
     "execution_count": 10,
     "metadata": {},
     "output_type": "execute_result"
    }
   ],
   "source": [
    "df.head(2)"
   ]
  },
  {
   "cell_type": "code",
   "execution_count": 11,
   "metadata": {},
   "outputs": [],
   "source": [
    "# Function to replace the domain with 'example'\n",
    "def anonymize_emails(emails):\n",
    "    # Flatten single email strings into lists for consistent processing\n",
    "    if isinstance(emails, str):\n",
    "        emails = [emails]\n",
    "    # Replace the domain for each email\n",
    "    anonymized = [\n",
    "        email.split('@')[0] + '@example.' + email.split('.')[-1]\n",
    "        if '@' in email else email\n",
    "        for email in emails\n",
    "    ]\n",
    "    return anonymized if len(anonymized) > 1 else anonymized[0]\n",
    "\n",
    "# Apply the function to the 'emails' column\n",
    "df['emails'] = df['emails'].apply(anonymize_emails)"
   ]
  },
  {
   "cell_type": "code",
   "execution_count": 12,
   "metadata": {},
   "outputs": [
    {
     "data": {
      "text/html": [
       "<div>\n",
       "<style scoped>\n",
       "    .dataframe tbody tr th:only-of-type {\n",
       "        vertical-align: middle;\n",
       "    }\n",
       "\n",
       "    .dataframe tbody tr th {\n",
       "        vertical-align: top;\n",
       "    }\n",
       "\n",
       "    .dataframe thead th {\n",
       "        text-align: right;\n",
       "    }\n",
       "</style>\n",
       "<table border=\"1\" class=\"dataframe\">\n",
       "  <thead>\n",
       "    <tr style=\"text-align: right;\">\n",
       "      <th></th>\n",
       "      <th>name</th>\n",
       "      <th>adres</th>\n",
       "      <th>website</th>\n",
       "      <th>telefoon</th>\n",
       "      <th>reviews_count</th>\n",
       "      <th>reviews_average</th>\n",
       "      <th>latitude</th>\n",
       "      <th>longitude</th>\n",
       "      <th>search_keyword</th>\n",
       "      <th>emails</th>\n",
       "    </tr>\n",
       "  </thead>\n",
       "  <tbody>\n",
       "    <tr>\n",
       "      <th>0</th>\n",
       "      <td>Studievereniging Tri Movere</td>\n",
       "      <td>NaN</td>\n",
       "      <td>https://www.trimovere.nl</td>\n",
       "      <td>NaN</td>\n",
       "      <td>2</td>\n",
       "      <td>5.0</td>\n",
       "      <td>51.818526</td>\n",
       "      <td>5.723399</td>\n",
       "      <td>Nederland, Nijmegen-Midden, Sporting Events</td>\n",
       "      <td>['info@example.nl']</td>\n",
       "    </tr>\n",
       "    <tr>\n",
       "      <th>1</th>\n",
       "      <td>Sport Event</td>\n",
       "      <td>NaN</td>\n",
       "      <td>https://www.sportevent.nl</td>\n",
       "      <td>NaN</td>\n",
       "      <td>1</td>\n",
       "      <td>5.0</td>\n",
       "      <td>51.899225</td>\n",
       "      <td>5.628144</td>\n",
       "      <td>Nederland, Nijmegen-Midden, Sporting Events</td>\n",
       "      <td>['info@example.nl']</td>\n",
       "    </tr>\n",
       "    <tr>\n",
       "      <th>5</th>\n",
       "      <td>Iconic Festival B.V.</td>\n",
       "      <td>NaN</td>\n",
       "      <td>https://www.devasim-nijmegen.nl</td>\n",
       "      <td>NaN</td>\n",
       "      <td>507</td>\n",
       "      <td>4.4</td>\n",
       "      <td>51.855572</td>\n",
       "      <td>5.800609</td>\n",
       "      <td>Nederland, Nijmegen-Nieuw-West, Music Festivals</td>\n",
       "      <td>['info@example.nl']</td>\n",
       "    </tr>\n",
       "    <tr>\n",
       "      <th>6</th>\n",
       "      <td>Sportproductions</td>\n",
       "      <td>NaN</td>\n",
       "      <td>https://www.sportproductions.nl</td>\n",
       "      <td>NaN</td>\n",
       "      <td>175</td>\n",
       "      <td>4.8</td>\n",
       "      <td>51.855569</td>\n",
       "      <td>5.800609</td>\n",
       "      <td>Nederland, Nijmegen-Nieuw-West, Sporting Events</td>\n",
       "      <td>['events@example.nl']</td>\n",
       "    </tr>\n",
       "    <tr>\n",
       "      <th>7</th>\n",
       "      <td>Sport Event</td>\n",
       "      <td>NaN</td>\n",
       "      <td>https://www.sportevent.nl</td>\n",
       "      <td>NaN</td>\n",
       "      <td>1</td>\n",
       "      <td>5.0</td>\n",
       "      <td>51.899225</td>\n",
       "      <td>5.736291</td>\n",
       "      <td>Nederland, Nijmegen-Nieuw-West, Sporting Events</td>\n",
       "      <td>['info@example.nl']</td>\n",
       "    </tr>\n",
       "  </tbody>\n",
       "</table>\n",
       "</div>"
      ],
      "text/plain": [
       "                          name  adres                          website  \\\n",
       "0  Studievereniging Tri Movere    NaN         https://www.trimovere.nl   \n",
       "1                  Sport Event    NaN        https://www.sportevent.nl   \n",
       "5         Iconic Festival B.V.    NaN  https://www.devasim-nijmegen.nl   \n",
       "6             Sportproductions    NaN  https://www.sportproductions.nl   \n",
       "7                  Sport Event    NaN        https://www.sportevent.nl   \n",
       "\n",
       "   telefoon  reviews_count  reviews_average   latitude  longitude  \\\n",
       "0       NaN              2              5.0  51.818526   5.723399   \n",
       "1       NaN              1              5.0  51.899225   5.628144   \n",
       "5       NaN            507              4.4  51.855572   5.800609   \n",
       "6       NaN            175              4.8  51.855569   5.800609   \n",
       "7       NaN              1              5.0  51.899225   5.736291   \n",
       "\n",
       "                                    search_keyword                 emails  \n",
       "0      Nederland, Nijmegen-Midden, Sporting Events    ['info@example.nl']  \n",
       "1      Nederland, Nijmegen-Midden, Sporting Events    ['info@example.nl']  \n",
       "5  Nederland, Nijmegen-Nieuw-West, Music Festivals    ['info@example.nl']  \n",
       "6  Nederland, Nijmegen-Nieuw-West, Sporting Events  ['events@example.nl']  \n",
       "7  Nederland, Nijmegen-Nieuw-West, Sporting Events    ['info@example.nl']  "
      ]
     },
     "execution_count": 12,
     "metadata": {},
     "output_type": "execute_result"
    }
   ],
   "source": [
    "df.head(5)"
   ]
  },
  {
   "cell_type": "code",
   "execution_count": 14,
   "metadata": {},
   "outputs": [
    {
     "data": {
      "text/plain": [
       "((86, 10), (36, 10))"
      ]
     },
     "execution_count": 14,
     "metadata": {},
     "output_type": "execute_result"
    }
   ],
   "source": [
    "df.shape, df2.shape"
   ]
  },
  {
   "cell_type": "code",
   "execution_count": 18,
   "metadata": {},
   "outputs": [
    {
     "data": {
      "text/plain": [
       "(122, 10)"
      ]
     },
     "execution_count": 18,
     "metadata": {},
     "output_type": "execute_result"
    }
   ],
   "source": [
    "from sklearn.utils import shuffle\n",
    "# Combine vertically (row-wise)\n",
    "result = pd.concat([df, df2], axis=0)\n",
    "result = shuffle(result)\n",
    "result.shape"
   ]
  },
  {
   "cell_type": "code",
   "execution_count": 19,
   "metadata": {},
   "outputs": [
    {
     "data": {
      "text/html": [
       "<div>\n",
       "<style scoped>\n",
       "    .dataframe tbody tr th:only-of-type {\n",
       "        vertical-align: middle;\n",
       "    }\n",
       "\n",
       "    .dataframe tbody tr th {\n",
       "        vertical-align: top;\n",
       "    }\n",
       "\n",
       "    .dataframe thead th {\n",
       "        text-align: right;\n",
       "    }\n",
       "</style>\n",
       "<table border=\"1\" class=\"dataframe\">\n",
       "  <thead>\n",
       "    <tr style=\"text-align: right;\">\n",
       "      <th></th>\n",
       "      <th>name</th>\n",
       "      <th>adres</th>\n",
       "      <th>website</th>\n",
       "      <th>telefoon</th>\n",
       "      <th>reviews_count</th>\n",
       "      <th>reviews_average</th>\n",
       "      <th>latitude</th>\n",
       "      <th>longitude</th>\n",
       "      <th>search_keyword</th>\n",
       "      <th>emails</th>\n",
       "    </tr>\n",
       "  </thead>\n",
       "  <tbody>\n",
       "    <tr>\n",
       "      <th>80</th>\n",
       "      <td>Music Meeting Festival</td>\n",
       "      <td>NaN</td>\n",
       "      <td>https://www.driftfestival.nl</td>\n",
       "      <td>NaN</td>\n",
       "      <td>143</td>\n",
       "      <td>4.5</td>\n",
       "      <td>51.899194</td>\n",
       "      <td>5.674490</td>\n",
       "      <td>Nederland, Nijmegen-Midden, Music Festivals</td>\n",
       "      <td>NaN</td>\n",
       "    </tr>\n",
       "    <tr>\n",
       "      <th>77</th>\n",
       "      <td>Global Sports Communication B.V.</td>\n",
       "      <td>NaN</td>\n",
       "      <td>https://www.globalsportscommunication.nl</td>\n",
       "      <td>NaN</td>\n",
       "      <td>4</td>\n",
       "      <td>5.0</td>\n",
       "      <td>51.833053</td>\n",
       "      <td>5.845400</td>\n",
       "      <td>Nederland, Nijmegen, Sporting Events</td>\n",
       "      <td>NaN</td>\n",
       "    </tr>\n",
       "    <tr>\n",
       "      <th>33</th>\n",
       "      <td>Eastside Bluesfestival</td>\n",
       "      <td>NaN</td>\n",
       "      <td>https://www.eastside-bluesfestival.nl</td>\n",
       "      <td>NaN</td>\n",
       "      <td>0</td>\n",
       "      <td>0.0</td>\n",
       "      <td>51.844476</td>\n",
       "      <td>5.830621</td>\n",
       "      <td>Nederland, Nijmegen-Oost, Music Festivals</td>\n",
       "      <td>['info@example.nl']</td>\n",
       "    </tr>\n",
       "    <tr>\n",
       "      <th>0</th>\n",
       "      <td>Studievereniging Tri Movere</td>\n",
       "      <td>NaN</td>\n",
       "      <td>https://www.trimovere.nl</td>\n",
       "      <td>NaN</td>\n",
       "      <td>2</td>\n",
       "      <td>5.0</td>\n",
       "      <td>51.818526</td>\n",
       "      <td>5.723399</td>\n",
       "      <td>Nederland, Nijmegen-Midden, Sporting Events</td>\n",
       "      <td>['info@example.nl']</td>\n",
       "    </tr>\n",
       "    <tr>\n",
       "      <th>83</th>\n",
       "      <td>Broekman Logistics B.V.</td>\n",
       "      <td>NaN</td>\n",
       "      <td>https://www.ddlogistics.nl</td>\n",
       "      <td>NaN</td>\n",
       "      <td>1</td>\n",
       "      <td>5.0</td>\n",
       "      <td>51.835132</td>\n",
       "      <td>5.825567</td>\n",
       "      <td>Nederland, Nijmegen-Oost, Logistics Companies</td>\n",
       "      <td>NaN</td>\n",
       "    </tr>\n",
       "  </tbody>\n",
       "</table>\n",
       "</div>"
      ],
      "text/plain": [
       "                                name  adres  \\\n",
       "80            Music Meeting Festival    NaN   \n",
       "77  Global Sports Communication B.V.    NaN   \n",
       "33            Eastside Bluesfestival    NaN   \n",
       "0        Studievereniging Tri Movere    NaN   \n",
       "83           Broekman Logistics B.V.    NaN   \n",
       "\n",
       "                                     website  telefoon  reviews_count  \\\n",
       "80              https://www.driftfestival.nl       NaN            143   \n",
       "77  https://www.globalsportscommunication.nl       NaN              4   \n",
       "33     https://www.eastside-bluesfestival.nl       NaN              0   \n",
       "0                   https://www.trimovere.nl       NaN              2   \n",
       "83                https://www.ddlogistics.nl       NaN              1   \n",
       "\n",
       "    reviews_average   latitude  longitude  \\\n",
       "80              4.5  51.899194   5.674490   \n",
       "77              5.0  51.833053   5.845400   \n",
       "33              0.0  51.844476   5.830621   \n",
       "0               5.0  51.818526   5.723399   \n",
       "83              5.0  51.835132   5.825567   \n",
       "\n",
       "                                   search_keyword               emails  \n",
       "80    Nederland, Nijmegen-Midden, Music Festivals                  NaN  \n",
       "77           Nederland, Nijmegen, Sporting Events                  NaN  \n",
       "33      Nederland, Nijmegen-Oost, Music Festivals  ['info@example.nl']  \n",
       "0     Nederland, Nijmegen-Midden, Sporting Events  ['info@example.nl']  \n",
       "83  Nederland, Nijmegen-Oost, Logistics Companies                  NaN  "
      ]
     },
     "execution_count": 19,
     "metadata": {},
     "output_type": "execute_result"
    }
   ],
   "source": [
    "result.head(5)"
   ]
  },
  {
   "cell_type": "code",
   "execution_count": 20,
   "metadata": {},
   "outputs": [],
   "source": [
    "result.to_csv('./data/email_list.csv')"
   ]
  },
  {
   "cell_type": "code",
   "execution_count": null,
   "metadata": {},
   "outputs": [],
   "source": []
  }
 ],
 "metadata": {
  "kernelspec": {
   "display_name": ".conda",
   "language": "python",
   "name": "python3"
  },
  "language_info": {
   "codemirror_mode": {
    "name": "ipython",
    "version": 3
   },
   "file_extension": ".py",
   "mimetype": "text/x-python",
   "name": "python",
   "nbconvert_exporter": "python",
   "pygments_lexer": "ipython3",
   "version": "3.11.10"
  }
 },
 "nbformat": 4,
 "nbformat_minor": 2
}
